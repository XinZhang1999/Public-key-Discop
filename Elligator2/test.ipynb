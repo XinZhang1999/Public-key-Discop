{
 "cells": [
  {
   "cell_type": "code",
   "execution_count": null,
   "metadata": {},
   "outputs": [],
   "source": [
    "from curve25519 import *\n",
    "from elligator import *\n",
    "from random    import randrange\n",
    "from random    import seed\n",
    "import secrets\n",
    "import time\n"
   ]
  },
  {
   "cell_type": "code",
   "execution_count": null,
   "metadata": {},
   "outputs": [],
   "source": [
    "def random_point():\n",
    "    x = GF(randrange(0, Mt.order*Mt.cofactor))\n",
    "    xP = Mt.scalarmult(Mt.base, x.val)\n",
    "    r = rev_map(xP, False)\n",
    "    while r is None:\n",
    "        x = GF(randrange(0, Mt.order*Mt.cofactor))\n",
    "        xP = Mt.scalarmult(Mt.base, x.val)\n",
    "        r = rev_map(xP, False)\n",
    "    return x, xP\n",
    "    "
   ]
  },
  {
   "cell_type": "code",
   "execution_count": null,
   "metadata": {},
   "outputs": [],
   "source": [
    "def int_254_tobytes_256(inp):\n",
    "    # add 2 random bits on last bytes\n",
    "    # inp: 256 bits int;  return 32bytes;\n",
    "    # 生成一个2位的随机数\n",
    "    random_2bits = secrets.randbelow(4)  # 4表示2的2次方，即2位的可能值数量\n",
    "    bytelist = inp.to_bytes(32, byteorder='little')\n",
    "    handle = bytelist[31]\n",
    "    result_8bits = (random_2bits << 6) | handle\n",
    "    return bytelist[0:31]+result_8bits.to_bytes(1, byteorder='little')\n",
    "\n",
    "\n",
    "def bytes_256_to_int_254(byteslist):\n",
    "    handle = byteslist[31]\n",
    "    handle %=64\n",
    "    result_254bytes = byteslist[0:31]+handle.to_bytes(1, byteorder='little')\n",
    "    return int.from_bytes(result_254bytes, byteorder = 'little')\n"
   ]
  },
  {
   "cell_type": "code",
   "execution_count": null,
   "metadata": {},
   "outputs": [],
   "source": [
    "print(Mt.order,Mt.base,Mt.cofactor)"
   ]
  },
  {
   "cell_type": "code",
   "execution_count": null,
   "metadata": {},
   "outputs": [],
   "source": [
    "'''\n",
    "integers = []\n",
    "for i in range(400000):\n",
    "    x , xP = random_point()\n",
    "    r = rev_map(xP, False)\n",
    "    integers.append(r.val)\n",
    "\n",
    "import multiprocessing\n",
    "import random\n",
    "\n",
    "# 定义一个函数，该函数将生成随机数并执行任务\n",
    "def generate_and_process_random_numbers(start, end, result_list):\n",
    "    for i in range(start, end):\n",
    "        x, xP = random_point()\n",
    "        r = rev_map(xP, False)\n",
    "        result_list.append(r.val)\n",
    "\n",
    "\n",
    "# 创建一个共享的列表来存储结果\n",
    "manager = multiprocessing.Manager()\n",
    "results = manager.list()\n",
    "\n",
    "# 定义进程数量\n",
    "num_processes = 8\n",
    "\n",
    "# 计算每个进程的工作范围\n",
    "chunk_size = 400000  // num_processes\n",
    "\n",
    "# 创建进程池\n",
    "pool = multiprocessing.Pool(processes=num_processes)\n",
    "\n",
    "\n",
    "# 使用进程池并行执行任务\n",
    "for i in range(num_processes):\n",
    "    start = i * chunk_size\n",
    "    end = (i + 1) * chunk_size\n",
    "    pool.apply_async(generate_and_process_random_numbers, args=(start, end, results))\n",
    "\n",
    "# 等待所有进程完成\n",
    "pool.close()\n",
    "pool.join()\n",
    "'''"
   ]
  },
  {
   "cell_type": "code",
   "execution_count": null,
   "metadata": {},
   "outputs": [],
   "source": [
    "'''\n",
    "with open('binary_file.bin', 'wb') as file:\n",
    "    # 遍历整数列表\n",
    "    for num in results:\n",
    "        # 使用to_bytes方法将整数转换为二进制，并写入文件\n",
    "        file.write(int_254_tobytes_256(num))\n",
    "\n",
    "# 关闭文件\n",
    "file.close()\n",
    "'''"
   ]
  }
 ],
 "metadata": {
  "kernelspec": {
   "display_name": "RL",
   "language": "python",
   "name": "python3"
  },
  "language_info": {
   "codemirror_mode": {
    "name": "ipython",
    "version": 3
   },
   "file_extension": ".py",
   "mimetype": "text/x-python",
   "name": "python",
   "nbconvert_exporter": "python",
   "pygments_lexer": "ipython3",
   "version": "3.10.8"
  },
  "orig_nbformat": 4
 },
 "nbformat": 4,
 "nbformat_minor": 2
}
